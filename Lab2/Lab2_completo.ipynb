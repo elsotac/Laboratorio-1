{
 "cells": [
  {
   "cell_type": "markdown",
   "metadata": {
    "cell_id": "567e3e8f1ac2430483c12975f41b3306",
    "deepnote_cell_height": 104.390625,
    "deepnote_cell_type": "markdown",
    "id": "cd7b1b55"
   },
   "source": [
    "<h1><center>Laboratorio 2: Primeros pasos 👣</center></h1>\n",
    "\n",
    "<center><strong>MDS7202: Laboratorio de Programación Científica para Ciencia de Datos - Otoño 2023</strong></center>"
   ]
  },
  {
   "cell_type": "markdown",
   "metadata": {
    "cell_id": "4464ba8e552d41a19d445e7746b72ef6",
    "deepnote_cell_height": 165.1875,
    "deepnote_cell_type": "markdown",
    "id": "Vp_vOHK7V97e"
   },
   "source": [
    "### Cuerpo Docente:\n",
    "\n",
    "- Profesor: Pablo Badilla y Ignacio Meza \n",
    "- Auxiliar: Sebastián Tinoco\n",
    "- Ayudante: Felipe Arias y Diego Cortez"
   ]
  },
  {
   "cell_type": "markdown",
   "metadata": {
    "cell_id": "4979683740cb498ab200a981cfafc91c",
    "deepnote_cell_height": 171.796875,
    "deepnote_cell_type": "markdown",
    "id": "4N_5AYgyWKyA"
   },
   "source": [
    "### Equipo: SUPER IMPORTANTE - notebooks sin nombre no serán revisados\n",
    "\n",
    "- Nombre de alumno 1: Luis Gutiérrez\n",
    "- Nombre de alumno 2: Juan Carlos Cuevas\n"
   ]
  },
  {
   "cell_type": "markdown",
   "metadata": {
    "cell_id": "1470f393cb414d2094db386ff745702c",
    "deepnote_cell_height": 62,
    "deepnote_cell_type": "markdown",
    "id": "1rjlaJDEWxd9"
   },
   "source": [
    "### **Link de repositorio de GitHub:** https://github.com/LuisGutierrezG/LuisGutierrezG-LABS"
   ]
  },
  {
   "cell_type": "markdown",
   "metadata": {
    "cell_id": "e30789b4d0e545569e96fe8c91897281",
    "deepnote_cell_height": 271.796875,
    "deepnote_cell_type": "markdown",
    "id": "9el9ERaKWW3i"
   },
   "source": [
    "## Reglas:\n",
    "\n",
    "- Fecha de entrega: 6 días desde la publicación, 3 días de atraso con 1 punto de descuento c/u. Pueden utilizar días bonus sin descuento.\n",
    "- **Grupos de 2 personas**.\n",
    "- Asistencia obligatoria a instrucciones del lab (viernes 16.15). Luego, pueden quedarse trabajando en las salas o irse.\n",
    "- **Ausentes** deberán realizar la actividad solos. \n",
    "- Cualquier duda fuera del horario de clases al foro. Mensajes al equipo docente serán respondidos por este medio.\n",
    "- Prohibidas las copias. \n",
    "- Pueden usar cualquer material del curso que estimen conveniente."
   ]
  },
  {
   "cell_type": "markdown",
   "metadata": {
    "cell_id": "6cb6045130834122bfa5a6c323983a68",
    "deepnote_cell_height": 249.390625,
    "deepnote_cell_type": "markdown",
    "id": "4708b9b7"
   },
   "source": [
    "\n",
    "## Objetivos del lab:\n",
    "\n",
    "Poner en práctica los tópicos básicos del lenguaje de programación Python vistos en clases.\n",
    "\n",
    "- Variables, Operadores y Expresiones.\n",
    "- Estructuras de Control (if/else).\n",
    "- Iteraciones.\n",
    "- Listas y Diccionarios.\n",
    "- Funciones\n",
    "- Programación Orientada a Objetos (Encapsulamiento, Polimorfismo y Herencia)"
   ]
  },
  {
   "cell_type": "markdown",
   "metadata": {
    "cell_id": "9085bd920a594bc2a52a3bfdce32e21f",
    "deepnote_cell_height": 567.09375,
    "deepnote_cell_type": "markdown",
    "id": "d58b089c"
   },
   "source": [
    "## Parte 1: 🍋 Frutas 🍓\n",
    "\n",
    "\n",
    "<div align='center'>\n",
    "<img src='https://upload.wikimedia.org/wikipedia/commons/a/a2/Berries_in_Berlin.jpg' width=600/>\n",
    "</div>"
   ]
  },
  {
   "cell_type": "markdown",
   "metadata": {
    "cell_id": "f6bb1ca25b6c4e159a32bf0b9630447d",
    "deepnote_cell_height": 259.59375,
    "deepnote_cell_type": "markdown",
    "id": "5fdf6b19"
   },
   "source": [
    "Defina las siguientes frutas como diccionarios a partir de sus características (nombre, color, tipo y si posee o no pepas):\n",
    "\n",
    "| Nombre    | Tipo     | Color    | Pepas |\n",
    "|-----------|----------|----------|-------|\n",
    "| limon     | cítrica  | amarillo | True  |\n",
    "| naranja   | cítrica  | naranjo  | True  |\n",
    "| plátano   | tropical | amarillo | False |\n",
    "| piña      | tropical | amarillo | False |\n",
    "| frutilla  | bosque   | rojo     | True |\n",
    "| frambuesa | bosque   | rojo     | True |"
   ]
  },
  {
   "cell_type": "markdown",
   "metadata": {
    "cell_id": "4566ac14c4fc4a9c9dec81e5def40a60",
    "deepnote_cell_height": 122.796875,
    "deepnote_cell_type": "markdown",
    "id": "33aed47b"
   },
   "source": [
    "### [0.5] Estructurar Datos \n",
    "\n",
    "Agregue Piña, Frutilla y Frambuesa como diccionarios (siga los ejemplos de las frutas dadas) y luego cree una lista que contenga estas frutas.\n"
   ]
  },
  {
   "cell_type": "code",
   "execution_count": 1,
   "metadata": {
    "cell_id": "85cec9afb1044dfc9e588800f2ec12cf",
    "deepnote_cell_type": "code",
    "deepnote_to_be_reexecuted": false,
    "executionInfo": {
     "elapsed": 204,
     "status": "ok",
     "timestamp": 1631284900014,
     "user": {
      "displayName": "Ignacio Meza",
      "photoUrl": "https://lh3.googleusercontent.com/a-/AOh14GhI9R2Sl9kpnSGYDYcmCbQ2_IwnY3_WeFFdC_YSXg=s64",
      "userId": "07738957670140287594"
     },
     "user_tz": 180
    },
    "execution_millis": 22,
    "execution_start": 1648863016482,
    "id": "26d23e26",
    "source_hash": "56db5a38"
   },
   "outputs": [],
   "source": [
    "limon = {\n",
    "    \"nombre\": \"limón\", \n",
    "    \"tipo\": \"cítrica\", \n",
    "    \"color\": \"amarillo\", \n",
    "    \"pepas\": True\n",
    "    }\n",
    "\n",
    "naranja = {\"nombre\": \"naranja\", \n",
    "           \"tipo\": \"cítrica\", \n",
    "           \"color\": \"naranjo\", \n",
    "           \"pepas\": True\n",
    "          }\n",
    "\n",
    "platano = {\"nombre\": \"plátano\", \n",
    "           \"tipo\": \"tropical\", \n",
    "           \"color\": \"amarillo\", \n",
    "           \"pepas\": False\n",
    "          }\n",
    "          \n",
    "# agregar las frutas que faltan aquí\n",
    "piña = {\n",
    "    \"nombre\": \"piña\", \n",
    "    \"tipo\": \"tropical\", \n",
    "    \"color\": \"amarillo\", \n",
    "    \"pepas\": False\n",
    "    }\n",
    "\n",
    "frutilla = {\n",
    "    \"nombre\": \"frutilla\", \n",
    "    \"tipo\": \"bosque\", \n",
    "    \"color\": \"rojo\", \n",
    "    \"pepas\": True\n",
    "    }\n",
    "\n",
    "frambuesa = {\n",
    "    \"nombre\": \"frambuesa\", \n",
    "    \"tipo\": \"bosque\", \n",
    "    \"color\": \"rojo\", \n",
    "    \"pepas\": True\n",
    "    }\n"
   ]
  },
  {
   "cell_type": "markdown",
   "metadata": {
    "cell_id": "450f0542818f4605b92e4aa94d47ce25",
    "deepnote_cell_height": 52.390625,
    "deepnote_cell_type": "markdown",
    "id": "259ee333"
   },
   "source": [
    "Ahora, agregue todas las frutas a una lista."
   ]
  },
  {
   "cell_type": "code",
   "execution_count": 2,
   "metadata": {
    "cell_id": "fcf275e66bb44531b98ec3f19a7da467",
    "deepnote_cell_type": "code",
    "deepnote_to_be_reexecuted": false,
    "executionInfo": {
     "elapsed": 3,
     "status": "ok",
     "timestamp": 1631284901845,
     "user": {
      "displayName": "Ignacio Meza",
      "photoUrl": "https://lh3.googleusercontent.com/a-/AOh14GhI9R2Sl9kpnSGYDYcmCbQ2_IwnY3_WeFFdC_YSXg=s64",
      "userId": "07738957670140287594"
     },
     "user_tz": 180
    },
    "execution_millis": 29,
    "execution_start": 1648863016524,
    "id": "fcf62186",
    "source_hash": "78d4e62"
   },
   "outputs": [],
   "source": [
    "# Ojo: agregue los datos en el mismo orden que aparecen en la tabla\n",
    "datos = [limon, naranja, platano, piña, frutilla, frambuesa]"
   ]
  },
  {
   "cell_type": "markdown",
   "metadata": {
    "cell_id": "6368768f93684ef3a2684d4dbcfdb6df",
    "deepnote_cell_height": 52.390625,
    "deepnote_cell_type": "markdown",
    "id": "2ed7730e"
   },
   "source": [
    "Esta lista será la información con la que se trabajará durante el lab."
   ]
  },
  {
   "cell_type": "markdown",
   "metadata": {
    "cell_id": "27cab0ecd65b4b5db1687a40be370a1c",
    "deepnote_cell_height": 62,
    "deepnote_cell_type": "markdown",
    "id": "e9b1e46d"
   },
   "source": [
    "### Funciones Aplicadas a los Datos [2.5 puntos]\n",
    "\n",
    "En esta sección se les pide generar una serie de funciones que cumplan diferentes propósitos. Un aspecto clave de la programación funcional es la apropiada **documentación** de lo que ustedes generen. Si bien existen diferentes formas de documentar código, una de las mas usadas es el formato docstring de `numpy`:\n",
    "\n",
    "```python\n",
    "# manual para describir:\n",
    "# https://numpydoc.readthedocs.io/en/latest/format.html\n",
    "\n",
    "# plantilla (agregar todos los argumentos que sean necesarios)\n",
    "# pensar _type_ como los tipos básicos que hemos visto hasta ahora: int, float, string, list, dict, tuple, set, etc...\n",
    "\n",
    "def funcion_generica(arg1, arg2):\n",
    "    \"\"\"_summary_\n",
    "\n",
    "    Parameters\n",
    "    ----------\n",
    "    arg1 : _type_\n",
    "        _description_\n",
    "    arg2 : _type_\n",
    "        _description_\n",
    "\n",
    "    Returns\n",
    "    -------\n",
    "    _type_\n",
    "        _description_\n",
    "    \"\"\"\n",
    "    return ...\n",
    "```\n"
   ]
  },
  {
   "cell_type": "markdown",
   "metadata": {
    "cell_id": "521da380d1c94a21a3bbdec5077e4cba",
    "deepnote_cell_type": "markdown"
   },
   "source": [
    "Considerando esto y **sin olvidar la documentación**, se les pide generar las siguientes funciones:\n",
    "\n",
    "**1. La función `generar_descripcion(fruta)` que reciba una fruta genere una descripción de la fruta de la siguiente manera:**\n",
    "\n",
    "```{El/La} {...} es una fruta de tipo {...} de color {...}. {Presenta/No presenta} pepas en su interior.```\n",
    "    \n",
    "Por ejemplo, `generar_descripcion(plátano)` debe generar el siguiente string:\n",
    "    \n",
    "```\n",
    "'El plátano es una fruta de tipo tropical de color amarillo. No presenta pepas en su interior.'\n",
    "```\n",
    "    \n",
    "Indicaciones: \n",
    "- Usen formateo o suma de strings, if, else y for.\n",
    "- Para saber si ocupar 'El' o 'La', pueden acceder al nombre de la fruta y ver cual es el último carácter a través de indexadores `string[indice]`.\n",
    "- Utilice los siguientes test para corroborar el funcionamiento de su código:\n",
    "\n",
    "```python\n",
    "assert generar_descripcion(limon) == \"El limón es una fruta de tipo cítrica de color amarillo. Presenta pepas en su interior.\"\n",
    "assert generar_descripcion(naranja) == \"La naranja es una fruta de tipo cítrica de color naranjo. Presenta pepas en su interior.\"\n",
    "assert generar_descripcion(platano) == \"El plátano es una fruta de tipo tropical de color amarillo. No presenta pepas en su interior.\"\n",
    "assert generar_descripcion(piña) == \"La piña es una fruta de tipo tropical de color amarillo. No presenta pepas en su interior.\"\n",
    "assert generar_descripcion(frutilla) == \"La frutilla es una fruta de tipo bosque de color rojo. Presenta pepas en su interior.\"\n",
    "assert generar_descripcion(frambuesa) == \"La frambuesa es una fruta de tipo bosque de color rojo. Presenta pepas en su interior.\"\n",
    "```"
   ]
  },
  {
   "cell_type": "code",
   "execution_count": 3,
   "metadata": {
    "cell_id": "533c38d09f7546a9ba5ede71227f9409",
    "deepnote_cell_type": "code"
   },
   "outputs": [],
   "source": [
    "def generar_descripcion(fruta):\n",
    "    \"\"\"_summary_\n",
    "\n",
    "    Parameters\n",
    "    ----------\n",
    "    arg1 : _dict_\n",
    "        _Diccionario con la fruta a describir_\n",
    "\n",
    "    Returns\n",
    "    -------\n",
    "    _string_\n",
    "        _Un string que menciona las características de la fruta_\n",
    "    \"\"\"\n",
    "    if fruta['nombre'][-1] == \"a\":\n",
    "        articulo = \"La\"\n",
    "    else:\n",
    "        articulo = \"El\"\n",
    "    \n",
    "    if fruta['pepas']:\n",
    "        pepas = \"Presenta\"\n",
    "    else:\n",
    "        pepas = \"No presenta\"\n",
    "    descripcion = \"{} {} es una fruta de tipo {} de color {}. {} pepas en su interior.\".format(articulo, fruta['nombre'], fruta['tipo'], fruta['color'], pepas)\n",
    "    return descripcion"
   ]
  },
  {
   "cell_type": "markdown",
   "metadata": {
    "cell_id": "40f4763a10004bf9ac8f8d94a8cbe482",
    "deepnote_cell_type": "markdown"
   },
   "source": [
    "**2. La función `describir(datos)` que generalice la función `generar_descripcion` para recibir una lista de frutas y devolver una lista con las descripciones de cada una:**\n",
    "\n",
    "Por ejemplo, `describir([limon, naranja]])` deberá devolver una lista de la forma `[descripcion_limon, descripcion_naranja]`"
   ]
  },
  {
   "cell_type": "code",
   "execution_count": 4,
   "metadata": {
    "cell_id": "5b9a31f617b84bb9b8af2aa71a8249a8",
    "deepnote_cell_type": "code"
   },
   "outputs": [],
   "source": [
    "def describir(datos):\n",
    "    \"\"\"_summary_\n",
    "\n",
    "    Parameters\n",
    "    ----------\n",
    "    arg1 : _list_\n",
    "        _lista con diccionarios de las frutas a describir_\n",
    "\n",
    "    Returns\n",
    "    -------\n",
    "    _list_\n",
    "        _ lista con strings de las descripciones de las frutas_\n",
    "    \"\"\"\n",
    "    # Código Aquí\n",
    "    descripciones = []\n",
    "    for fruta in datos:\n",
    "        descripciones.append(generar_descripcion(fruta))\n",
    "    return descripciones"
   ]
  },
  {
   "cell_type": "markdown",
   "metadata": {
    "cell_id": "096d40181b344935a8daed1ef59e1ed3",
    "deepnote_cell_type": "markdown"
   },
   "source": [
    "**3. La función `filtrar_por_pepa(datos, tiene_pepas)` que dado un tipo de fruta y un booleano, retorne las frutas que tienen o no tienen pepas (según el valor de `tiene_pepas`).**\n",
    "    \n",
    "\n",
    "Por ejemplo, `filtrar_por_pepa(datos, True)` deberá retornar una lista con los diccionarios de: naranja, limon, frutilla y frambuesa."
   ]
  },
  {
   "cell_type": "code",
   "execution_count": 5,
   "metadata": {
    "cell_id": "4b929adaff504132824ce55493656849",
    "deepnote_cell_type": "code"
   },
   "outputs": [],
   "source": [
    "def filtrar_por_pepa(datos, tiene_pepas):\n",
    "    \"\"\"_summary_\n",
    "\n",
    "    Parameters\n",
    "    ----------\n",
    "    arg1 : _list_\n",
    "        _lista con diccionarios de las frutas a filtrar_\n",
    "    arg2 : _bool_\n",
    "        _booleano que indica si las frutas a filtrar deben o no tener pepas_\n",
    "\n",
    "    Returns\n",
    "    -------\n",
    "    _list_\n",
    "        _ lista con diccionarios de las frutas que cumplen la condición_\n",
    "    \"\"\"\n",
    "    filtrados = []\n",
    "    if tiene_pepas == None:\n",
    "        return filtrados\n",
    "    for fruta in datos:\n",
    "        if fruta['pepas'] == tiene_pepas:\n",
    "            filtrados.append(fruta)\n",
    "    return filtrados"
   ]
  },
  {
   "cell_type": "markdown",
   "metadata": {
    "cell_id": "31929b2f72f84543b98fa78cbac46745",
    "deepnote_cell_type": "markdown"
   },
   "source": [
    "**4. La función `conteo_colores(datos)` que cree un diccionario que haga un conteo los colores de las frutas.**\n",
    "\n",
    "Para estos datos, la función debería retornar el siguiente diccionario: \n",
    "    \n",
    "```python\n",
    "{\"amarillo\": 3, \"naranjo\": 1, \"rojo\": 2}\n",
    "```"
   ]
  },
  {
   "cell_type": "code",
   "execution_count": 6,
   "metadata": {
    "cell_id": "9d58aa3406854329853f32316b6b0d07",
    "deepnote_cell_type": "code"
   },
   "outputs": [],
   "source": [
    "def conteo_colores(datos):\n",
    "    \"\"\"_summary_\n",
    "\n",
    "    Parameters\n",
    "    ----------\n",
    "    arg1 : _list_\n",
    "        _lista con diccionarios de las frutas a contar_\n",
    "    Returns\n",
    "    -------\n",
    "    _dict_\n",
    "        _ diccionario con los colores de las frutas y su cantidad_\n",
    "    \"\"\"\n",
    "    conteo = {}\n",
    "    for fruta in datos:\n",
    "        if fruta['color'] not in conteo.keys():\n",
    "            conteo[fruta['color']] = 1\n",
    "        else:\n",
    "            conteo[fruta['color']] +=1\n",
    "    return conteo"
   ]
  },
  {
   "cell_type": "markdown",
   "metadata": {
    "cell_id": "680376561e244482aef7b577c1753252",
    "deepnote_cell_type": "markdown"
   },
   "source": [
    "**5. La función `obtener_tipos` que devuelva una lista con los tipos únicos de fruta usando `set()`**.\n",
    "\n",
    "Por ejemplo, `obtener_tipos([limon, naranja, platano])` debería devolver `[\"citrica\", \"tropical\"]`"
   ]
  },
  {
   "cell_type": "code",
   "execution_count": 7,
   "metadata": {
    "cell_id": "0815c695d16d4e10afdc0de3e9e75edd",
    "deepnote_cell_type": "code"
   },
   "outputs": [],
   "source": [
    "def obtener_tipos(datos):\n",
    "    \"\"\"_summary_\n",
    "\n",
    "    Parameters\n",
    "    ----------\n",
    "    arg1 : _list_\n",
    "        _lista con diccionarios de las frutas a filtrar_\n",
    "    Returns\n",
    "    -------\n",
    "    _list_\n",
    "        _ lista con los tipos únicos de las frutas_\n",
    "    \"\"\"\n",
    "    tipos = []\n",
    "    for frutas in datos:\n",
    "        tipos.append(frutas['tipo'])\n",
    "    tipos = list(set(tipos))\n",
    "    return tipos"
   ]
  },
  {
   "cell_type": "markdown",
   "metadata": {
    "cell_id": "362d8b70b71b46eea57663b8cba43d9a",
    "deepnote_cell_type": "markdown"
   },
   "source": [
    "**6. Genere tres test para cada una de las funciones de la pregunta 5 y así comprobar que funcionan correctamente.**\n",
    "\n",
    "Se <u>sugiere</u> que se apoyen en las siguientes directrices: \n",
    "- Test para tratar resultados nulos\n",
    "- Test para un subconjunto interesante cuyo resultado no sea nulo\n",
    "- Test para todos los datos"
   ]
  },
  {
   "cell_type": "markdown",
   "metadata": {
    "cell_id": "fae9a28ed4b24531910f59386004a311",
    "deepnote_cell_height": 52.390625,
    "deepnote_cell_type": "markdown",
    "id": "F2mt7aIusap8"
   },
   "source": [
    "**Ejecuten esta celda para comprobar su código:**"
   ]
  },
  {
   "cell_type": "code",
   "execution_count": 8,
   "metadata": {},
   "outputs": [],
   "source": [
    "# ---------------------------------------------------------------------\n",
    "# test descripciones\n",
    "\n",
    "assert describir([limon]) == [\"El limón es una fruta de tipo cítrica de color amarillo. Presenta pepas en su interior.\"]\n",
    "assert describir([naranja]) == [\"La naranja es una fruta de tipo cítrica de color naranjo. Presenta pepas en su interior.\"]\n",
    "assert describir([limon,\n",
    "                  naranja,\n",
    "                  platano,\n",
    "                  piña,\n",
    "                  frutilla,\n",
    "                  frambuesa]) == [\"El limón es una fruta de tipo cítrica de color amarillo. Presenta pepas en su interior.\",\n",
    "                                  \"La naranja es una fruta de tipo cítrica de color naranjo. Presenta pepas en su interior.\",\n",
    "                                  \"El plátano es una fruta de tipo tropical de color amarillo. No presenta pepas en su interior.\",\n",
    "                                  \"La piña es una fruta de tipo tropical de color amarillo. No presenta pepas en su interior.\",\n",
    "                                  \"La frutilla es una fruta de tipo bosque de color rojo. Presenta pepas en su interior.\",\n",
    "                                  \"La frambuesa es una fruta de tipo bosque de color rojo. Presenta pepas en su interior.\"]\n",
    "\n",
    "\n",
    "# ---------------------------------------------------------------------\n",
    "# test filtro\n",
    "\n",
    "assert filtrar_por_pepa([limon, naranja, platano, piña, frutilla, frambuesa], True) == [limon, naranja, frutilla, frambuesa]\n",
    "assert filtrar_por_pepa([limon, naranja, platano, piña, frutilla, frambuesa], False) == [platano, piña]\n",
    "assert filtrar_por_pepa([limon, naranja, platano, piña, frutilla, frambuesa], None) == []\n",
    "\n",
    "\n",
    "# ---------------------------------------------------------------------\n",
    "# test conteo\n",
    "\n",
    "assert conteo_colores([limon, naranja, platano, piña, frutilla, frambuesa]) == {\"amarillo\": 3, \"naranjo\": 1, \"rojo\": 2}\n",
    "assert conteo_colores([frutilla, frambuesa]) == {\"rojo\": 2}\n",
    "assert conteo_colores([]) == {}\n",
    "\n",
    "\n",
    "# ---------------------------------------------------------------------\n",
    "# test tipos\n",
    "\n",
    "assert obtener_tipos([limon, naranja, platano, piña, frutilla, frambuesa]) == list(set([\"cítrica\", \"tropical\", \"bosque\"]))\n",
    "assert obtener_tipos([limon, naranja, platano]) == list(set([\"cítrica\", \"tropical\"]))\n",
    "assert obtener_tipos([]) == list(set([]))"
   ]
  },
  {
   "cell_type": "markdown",
   "metadata": {
    "cell_id": "745ed4bbc60044f182fbc3c4caec5c84",
    "deepnote_cell_type": "markdown"
   },
   "source": [
    "**7. Programe nuevamente las funciones `describir`, `filtrar_por_pepa` y `obtener_tipos`, pero esta vez usando *comprehensions*.**\n",
    "\n",
    "*Hint: Pueden reutilizar la documentación escrita en la pregunta 5*"
   ]
  },
  {
   "cell_type": "code",
   "execution_count": 9,
   "metadata": {
    "cell_id": "18b1fa6908a3456483d9bc7f87788b8d",
    "deepnote_cell_type": "code"
   },
   "outputs": [],
   "source": [
    "def obtener_descripciones_v2(datos):\n",
    "    \"\"\"_summary_\n",
    "\n",
    "    Parameters\n",
    "    ----------\n",
    "    arg1 : _list_\n",
    "        _lista con diccionarios de las frutas a describir_\n",
    "\n",
    "    Returns\n",
    "    -------\n",
    "    _list_\n",
    "        _ lista con strings de las descripciones de las frutas_\n",
    "    \"\"\"\n",
    "    return [generar_descripcion(fruta) for fruta in datos]\n",
    "\n",
    "def filtrar_por_pepa_v2(datos, tiene_pepas):\n",
    "    \"\"\"_summary_\n",
    "\n",
    "    Parameters\n",
    "    ----------\n",
    "    arg1 : _list_\n",
    "        _lista con diccionarios de las frutas a filtrar_\n",
    "    arg2 : _bool_\n",
    "        _booleano que indica si las frutas a filtrar deben o no tener pepas_\n",
    "\n",
    "    Returns\n",
    "    -------\n",
    "    _list_\n",
    "        _ lista con diccionarios de las frutas que cumplen la condición_\n",
    "    \"\"\"\n",
    "    return [fruta for fruta in datos if fruta['pepas'] == tiene_pepas]\n",
    "\n",
    "def obtener_tipos_v2(datos):\n",
    "    \"\"\"_summary_\n",
    "\n",
    "    Parameters\n",
    "    ----------\n",
    "    arg1 : _list_\n",
    "        _lista con diccionarios de las frutas a filtrar_\n",
    "    Returns\n",
    "    -------\n",
    "    _list_\n",
    "        _ lista con los tipos únicos de las frutas_\n",
    "    \"\"\"\n",
    "    return list(set([fruta['tipo'] for fruta in datos]))"
   ]
  },
  {
   "cell_type": "markdown",
   "metadata": {
    "cell_id": "70857dcf13464ee2969cc1ce546cce0c",
    "deepnote_cell_height": 723.59375,
    "deepnote_cell_type": "markdown",
    "id": "492b941a"
   },
   "source": [
    "## Parte 2: Electrodomésticos \n",
    "\n",
    "En esta parte se solicitarán un par de clases que permitirá jugar con la Programación Orientada a Objetos.\n",
    "\n",
    "<div align='center'>\n",
    "<img src='https://upload.wikimedia.org/wikipedia/commons/6/67/Breville.jpg' width=400/>\n",
    "</div>\n",
    "\n",
    "\n",
    "### [0.5] Clase Electrodoméstico\n",
    "\n",
    "Defina la clase `Electrodomestico` que implemente:\n",
    "\n",
    "\n",
    "- Un constructor que defina un atributo de instancia llamado `enchufado` que almacene valores booleanos. \n",
    "- Un método llamado `esta_enchufado(self)` que levante una excepción `Exception` y que termine con la ejecución del programa cuando el atributo enchufado sea `False`. La excepción debe levantar el mensaje `'Alerta ⚠️: El electrodoméstico no está enchufado'`\n",
    "- Un método llamado `enchufar(self)` que cambia el estado de `enchufado` a True.\n",
    "\n"
   ]
  },
  {
   "cell_type": "code",
   "execution_count": 10,
   "metadata": {
    "cell_id": "3c65e471110f49fe9f5b54287ce74c9b",
    "deepnote_cell_type": "code",
    "deepnote_to_be_reexecuted": false,
    "executionInfo": {
     "elapsed": 211,
     "status": "ok",
     "timestamp": 1631284910016,
     "user": {
      "displayName": "Ignacio Meza",
      "photoUrl": "https://lh3.googleusercontent.com/a-/AOh14GhI9R2Sl9kpnSGYDYcmCbQ2_IwnY3_WeFFdC_YSXg=s64",
      "userId": "07738957670140287594"
     },
     "user_tz": 180
    },
    "execution_millis": 21,
    "execution_start": 1648863016745,
    "id": "9f8aa475",
    "source_hash": "43ca10f0"
   },
   "outputs": [],
   "source": [
    "class Electrodomestico:\n",
    "    \n",
    "    def __init__(self):\n",
    "      self.enchufado = False\n",
    "        \n",
    "    def esta_enchufado(self):\n",
    "      if not self.enchufado:\n",
    "        raise Exception('Alerta ⚠️: El electrodoméstico no está enchufado')\n",
    "            \n",
    "    def enchufar(self):\n",
    "      self.enchufado = True"
   ]
  },
  {
   "cell_type": "markdown",
   "metadata": {
    "cell_id": "56f3ae20d61d4fcab7763a14531ecbfd",
    "deepnote_cell_height": 1059.59375,
    "deepnote_cell_type": "markdown",
    "id": "d7d477b5"
   },
   "source": [
    "### Clase Jugera [1.5 puntos] \n",
    "\n",
    "\n",
    "<div align='center'>\n",
    "<img src='https://upload.wikimedia.org/wikipedia/commons/b/bb/Liquadora_%28parts%29.JPG' width=400/>\n",
    "</div>\n",
    "\n",
    "\n",
    "Implemente la clase `Jugera` que extiende `Electrodomestico` y que implemente: \n",
    "\n",
    "\n",
    "- Un constructor que tenga una lista de ingredientes frutales (llamado `bandeja`).\n",
    "\n",
    "\n",
    "- Un método llamado `agregar_ingrediente(self, nueva_fruta)` que dado una fruta, agregue esa fruta a la `bandeja`.\n",
    "\n",
    "- Un método llamado `listar_ingredientes(self)` que imprima (con `print`) los ingredientes actuales de la `bandeja` de la siguiente forma: \n",
    "\n",
    "    `Ingredientes en la bandeja: frutilla, frambuesa, piña.`\n",
    "\n",
    "De lo contrario si no tiene ingredientes imprima:\n",
    "\n",
    "    `Bandeja vacía`\n",
    "\n",
    "\n",
    "**Hint:** Investigar el método `join` de un string para generar el string con los nombres de las frutas.\n",
    "    \n",
    "    \n",
    "    \n",
    "\n",
    "- Un método llamado `preparar_jugo(self)` que: \n",
    "    - Primero verifique que el electrodoméstico esté enchufado usando `self.esta_enchufado()`.\n",
    "    - Verifique que haya por lo menos un ingrediente en la `bandeja`. En el caso que no haya, levantar una excepción con contenido `'Error ❌: La bandeja no tiene ingredientes.'`\n",
    "    - Verifique que ninguna fruta tenga pepas. En el caso que haya alguna, imprimir (con `print`) el mensaje de advertencia `'Alerta ⚠️: El jugo puede contener restos de pepas.'`. Puede usar la función definida en la sección anterior.\n",
    "    - Genere un mensaje indicado `Jugo de {nombres de las frutas separadas por una ,} listo. 🏖️🥤 Que lo disfrutes!!! 🥤🏖️. ` (Hint: Usar nuevamente `join`).\n",
    "    - Vacie la `bandeja` (es decir, eliminar todas las frutas de la bandeja).\n",
    "    - Retorne el mensaje generado.\n"
   ]
  },
  {
   "cell_type": "code",
   "execution_count": 11,
   "metadata": {
    "cell_id": "9f42c023a75b4b16b24e5b09d7276e88",
    "deepnote_cell_type": "code",
    "deepnote_to_be_reexecuted": false,
    "executionInfo": {
     "elapsed": 200,
     "status": "ok",
     "timestamp": 1631284912218,
     "user": {
      "displayName": "Ignacio Meza",
      "photoUrl": "https://lh3.googleusercontent.com/a-/AOh14GhI9R2Sl9kpnSGYDYcmCbQ2_IwnY3_WeFFdC_YSXg=s64",
      "userId": "07738957670140287594"
     },
     "user_tz": 180
    },
    "execution_millis": 0,
    "execution_start": 1648863366156,
    "id": "d9db037b",
    "source_hash": "fe592b51"
   },
   "outputs": [],
   "source": [
    "class Jugera(Electrodomestico):\n",
    "    \n",
    "    def __init__(self):\n",
    "      super().__init__()\n",
    "      self.bandeja = []\n",
    "        \n",
    "    def agregar_ingrediente(self, nueva_fruta):\n",
    "        self.bandeja.append(nueva_fruta)\n",
    "        \n",
    "    def listar_ingredientes(self):\n",
    "        if len(self.bandeja) < 1:\n",
    "            print('Bandeja vacía')\n",
    "        else:\n",
    "            frutas = ', '.join([fruta['nombre'] for fruta in self.bandeja])\n",
    "            print('Ingredientes en la bandeja: '+ frutas +'.')\n",
    "    \n",
    "    def preparar_jugo(self):\n",
    "        self.esta_enchufado()\n",
    "        if len(self.bandeja) < 1:\n",
    "            raise Exception('Error ❌: La bandeja no tiene ingredientes.')\n",
    "        \n",
    "        if len(filtrar_por_pepa_v2(self.bandeja, True)) >= 1:\n",
    "            print('Alerta ⚠️: El jugo puede contener restos de pepas.')\n",
    "        \n",
    "        frutas = \", \".join([fruta['nombre'] for fruta in self.bandeja])\n",
    "        mensaje = 'Jugo de '+ frutas + ' listo. 🏖️🥤 Que lo disfrutes!!! 🥤🏖️.'\n",
    "        self.bandeja = []\n",
    "        return mensaje"
   ]
  },
  {
   "cell_type": "markdown",
   "metadata": {
    "cell_id": "73d709b368c84bc6a3c5336a6f549eac",
    "deepnote_cell_height": 122.796875,
    "deepnote_cell_type": "markdown",
    "id": "6889015a"
   },
   "source": [
    "### Interacciones\n",
    "\n",
    "Las siguientes celdas les permitirán probar las interacciones de esta clase.\n",
    "La ejecución es solo referencial y no lleva puntaje. La idea es que la utilice como guía para desarrollar la clase."
   ]
  },
  {
   "cell_type": "code",
   "execution_count": 12,
   "metadata": {
    "cell_id": "5c47280064504e948d21f495ca2f8053",
    "colab": {
     "base_uri": "https://localhost:8080/"
    },
    "deepnote_cell_type": "code",
    "deepnote_to_be_reexecuted": false,
    "executionInfo": {
     "elapsed": 269,
     "status": "ok",
     "timestamp": 1631284915045,
     "user": {
      "displayName": "Ignacio Meza",
      "photoUrl": "https://lh3.googleusercontent.com/a-/AOh14GhI9R2Sl9kpnSGYDYcmCbQ2_IwnY3_WeFFdC_YSXg=s64",
      "userId": "07738957670140287594"
     },
     "user_tz": 180
    },
    "execution_millis": 8,
    "execution_start": 1648863369348,
    "id": "913af660",
    "outputId": "7164b289-ab75-48f5-a03f-4396c8841115",
    "source_hash": "239b8903"
   },
   "outputs": [
    {
     "name": "stdout",
     "output_type": "stream",
     "text": [
      "Bandeja vacía\n"
     ]
    }
   ],
   "source": [
    "jugera = Jugera()\n",
    "\n",
    "# Como no tenemos ingredientes, listar_ingredientes deberá imprimir 'Bandeja vacía'\n",
    "jugera.listar_ingredientes()"
   ]
  },
  {
   "cell_type": "code",
   "execution_count": 13,
   "metadata": {
    "cell_id": "7cfdd145bbff42d4a3c66c50d2559120",
    "colab": {
     "base_uri": "https://localhost:8080/",
     "height": 337
    },
    "deepnote_cell_type": "code",
    "deepnote_to_be_reexecuted": false,
    "executionInfo": {
     "elapsed": 237,
     "status": "error",
     "timestamp": 1630330986057,
     "user": {
      "displayName": "Pablo Fernando Badilla Torrealba",
      "photoUrl": "https://lh3.googleusercontent.com/a-/AOh14GhZ9wO5kZX0PA8fZAhVQswlN5woaZe0JQGA3vxVLw=s64",
      "userId": "14091881033206329524"
     },
     "user_tz": 240
    },
    "execution_millis": 20,
    "execution_start": 1648863371573,
    "id": "9d06bf3e",
    "outputId": "0570ec3a-fc16-4239-b7d2-ed3db46b9cbe",
    "source_hash": "77689b24"
   },
   "outputs": [
    {
     "ename": "Exception",
     "evalue": "Alerta ⚠️: El electrodoméstico no está enchufado",
     "output_type": "error",
     "traceback": [
      "\u001b[1;31m---------------------------------------------------------------------------\u001b[0m",
      "\u001b[1;31mException\u001b[0m                                 Traceback (most recent call last)",
      "Cell \u001b[1;32mIn[13], line 2\u001b[0m\n\u001b[0;32m      1\u001b[0m \u001b[38;5;66;03m# Esta celda debería levantar una excepcion indicando que no está enchufada la jugera.\u001b[39;00m\n\u001b[1;32m----> 2\u001b[0m \u001b[43mjugera\u001b[49m\u001b[38;5;241;43m.\u001b[39;49m\u001b[43mpreparar_jugo\u001b[49m\u001b[43m(\u001b[49m\u001b[43m)\u001b[49m\n",
      "Cell \u001b[1;32mIn[11], line 18\u001b[0m, in \u001b[0;36mJugera.preparar_jugo\u001b[1;34m(self)\u001b[0m\n\u001b[0;32m     17\u001b[0m \u001b[38;5;28;01mdef\u001b[39;00m \u001b[38;5;21mpreparar_jugo\u001b[39m(\u001b[38;5;28mself\u001b[39m):\n\u001b[1;32m---> 18\u001b[0m     \u001b[38;5;28;43mself\u001b[39;49m\u001b[38;5;241;43m.\u001b[39;49m\u001b[43mesta_enchufado\u001b[49m\u001b[43m(\u001b[49m\u001b[43m)\u001b[49m\n\u001b[0;32m     19\u001b[0m     \u001b[38;5;28;01mif\u001b[39;00m \u001b[38;5;28mlen\u001b[39m(\u001b[38;5;28mself\u001b[39m\u001b[38;5;241m.\u001b[39mbandeja) \u001b[38;5;241m<\u001b[39m \u001b[38;5;241m1\u001b[39m:\n\u001b[0;32m     20\u001b[0m         \u001b[38;5;28;01mraise\u001b[39;00m \u001b[38;5;167;01mException\u001b[39;00m(\u001b[38;5;124m'\u001b[39m\u001b[38;5;124mError ❌: La bandeja no tiene ingredientes.\u001b[39m\u001b[38;5;124m'\u001b[39m)\n",
      "Cell \u001b[1;32mIn[10], line 8\u001b[0m, in \u001b[0;36mElectrodomestico.esta_enchufado\u001b[1;34m(self)\u001b[0m\n\u001b[0;32m      6\u001b[0m \u001b[38;5;28;01mdef\u001b[39;00m \u001b[38;5;21mesta_enchufado\u001b[39m(\u001b[38;5;28mself\u001b[39m):\n\u001b[0;32m      7\u001b[0m   \u001b[38;5;28;01mif\u001b[39;00m \u001b[38;5;129;01mnot\u001b[39;00m \u001b[38;5;28mself\u001b[39m\u001b[38;5;241m.\u001b[39menchufado:\n\u001b[1;32m----> 8\u001b[0m     \u001b[38;5;28;01mraise\u001b[39;00m \u001b[38;5;167;01mException\u001b[39;00m(\u001b[38;5;124m'\u001b[39m\u001b[38;5;124mAlerta ⚠️: El electrodoméstico no está enchufado\u001b[39m\u001b[38;5;124m'\u001b[39m)\n",
      "\u001b[1;31mException\u001b[0m: Alerta ⚠️: El electrodoméstico no está enchufado"
     ]
    }
   ],
   "source": [
    "# Esta celda debería levantar una excepcion indicando que no está enchufada la jugera.\n",
    "jugera.preparar_jugo()"
   ]
  },
  {
   "cell_type": "code",
   "execution_count": 14,
   "metadata": {
    "cell_id": "6a19f22b8c684cad81373a1a3d0fb64c",
    "deepnote_cell_type": "code",
    "deepnote_to_be_reexecuted": false,
    "execution_millis": 0,
    "execution_start": 1648863372430,
    "id": "3ad38f18",
    "source_hash": "36a2ab49"
   },
   "outputs": [],
   "source": [
    "# Enchufamos el electrodoméstico\n",
    "jugera.enchufar()"
   ]
  },
  {
   "cell_type": "code",
   "execution_count": 15,
   "metadata": {
    "cell_id": "c6d5077fdb3d4025b877769428edc14a",
    "colab": {
     "base_uri": "https://localhost:8080/",
     "height": 299
    },
    "deepnote_cell_type": "code",
    "deepnote_to_be_reexecuted": false,
    "executionInfo": {
     "elapsed": 235,
     "status": "error",
     "timestamp": 1630289215369,
     "user": {
      "displayName": "Ignacio Meza",
      "photoUrl": "https://lh3.googleusercontent.com/a-/AOh14GhI9R2Sl9kpnSGYDYcmCbQ2_IwnY3_WeFFdC_YSXg=s64",
      "userId": "07738957670140287594"
     },
     "user_tz": 240
    },
    "execution_millis": 173,
    "execution_start": 1648863376136,
    "id": "48009872",
    "outputId": "c340d269-afa0-4d70-e489-d5c3710dda6e",
    "scrolled": true,
    "source_hash": "27514b2c"
   },
   "outputs": [
    {
     "ename": "Exception",
     "evalue": "Error ❌: La bandeja no tiene ingredientes.",
     "output_type": "error",
     "traceback": [
      "\u001b[1;31m---------------------------------------------------------------------------\u001b[0m",
      "\u001b[1;31mException\u001b[0m                                 Traceback (most recent call last)",
      "Cell \u001b[1;32mIn[15], line 2\u001b[0m\n\u001b[0;32m      1\u001b[0m \u001b[38;5;66;03m# Esta celda debería levantar ina excepción informandoles que la bandeja no tiene ingredientes.\u001b[39;00m\n\u001b[1;32m----> 2\u001b[0m \u001b[43mjugera\u001b[49m\u001b[38;5;241;43m.\u001b[39;49m\u001b[43mpreparar_jugo\u001b[49m\u001b[43m(\u001b[49m\u001b[43m)\u001b[49m\n",
      "Cell \u001b[1;32mIn[11], line 20\u001b[0m, in \u001b[0;36mJugera.preparar_jugo\u001b[1;34m(self)\u001b[0m\n\u001b[0;32m     18\u001b[0m \u001b[38;5;28mself\u001b[39m\u001b[38;5;241m.\u001b[39mesta_enchufado()\n\u001b[0;32m     19\u001b[0m \u001b[38;5;28;01mif\u001b[39;00m \u001b[38;5;28mlen\u001b[39m(\u001b[38;5;28mself\u001b[39m\u001b[38;5;241m.\u001b[39mbandeja) \u001b[38;5;241m<\u001b[39m \u001b[38;5;241m1\u001b[39m:\n\u001b[1;32m---> 20\u001b[0m     \u001b[38;5;28;01mraise\u001b[39;00m \u001b[38;5;167;01mException\u001b[39;00m(\u001b[38;5;124m'\u001b[39m\u001b[38;5;124mError ❌: La bandeja no tiene ingredientes.\u001b[39m\u001b[38;5;124m'\u001b[39m)\n\u001b[0;32m     22\u001b[0m \u001b[38;5;28;01mif\u001b[39;00m \u001b[38;5;28mlen\u001b[39m(filtrar_por_pepa_v2(\u001b[38;5;28mself\u001b[39m\u001b[38;5;241m.\u001b[39mbandeja, \u001b[38;5;28;01mTrue\u001b[39;00m)) \u001b[38;5;241m>\u001b[39m\u001b[38;5;241m=\u001b[39m \u001b[38;5;241m1\u001b[39m:\n\u001b[0;32m     23\u001b[0m     \u001b[38;5;28mprint\u001b[39m(\u001b[38;5;124m'\u001b[39m\u001b[38;5;124mAlerta ⚠️: El jugo puede contener restos de pepas.\u001b[39m\u001b[38;5;124m'\u001b[39m)\n",
      "\u001b[1;31mException\u001b[0m: Error ❌: La bandeja no tiene ingredientes."
     ]
    }
   ],
   "source": [
    "# Esta celda debería levantar ina excepción informandoles que la bandeja no tiene ingredientes.\n",
    "jugera.preparar_jugo()"
   ]
  },
  {
   "cell_type": "code",
   "execution_count": 16,
   "metadata": {
    "cell_id": "c29aa5b7dc3745ff90ddadee72e24b3f",
    "colab": {
     "base_uri": "https://localhost:8080/"
    },
    "deepnote_cell_type": "code",
    "deepnote_to_be_reexecuted": false,
    "executionInfo": {
     "elapsed": 194,
     "status": "ok",
     "timestamp": 1631284926980,
     "user": {
      "displayName": "Ignacio Meza",
      "photoUrl": "https://lh3.googleusercontent.com/a-/AOh14GhI9R2Sl9kpnSGYDYcmCbQ2_IwnY3_WeFFdC_YSXg=s64",
      "userId": "07738957670140287594"
     },
     "user_tz": 180
    },
    "execution_millis": 6,
    "execution_start": 1648863377052,
    "id": "4873e0bf",
    "outputId": "4ee534c1-047a-44e7-a78f-dfb2f9c35ecc",
    "source_hash": "a8f0979e"
   },
   "outputs": [
    {
     "name": "stdout",
     "output_type": "stream",
     "text": [
      "Ingredientes en la bandeja: naranja, plátano.\n"
     ]
    }
   ],
   "source": [
    "# Agregamos algunos ingredientes\n",
    "jugera.agregar_ingrediente(naranja)\n",
    "jugera.agregar_ingrediente(platano)\n",
    "\n",
    "# Y los listamos (debería imprimir: 'Ingredientes en la bandeja: naranja, plátano')\n",
    "jugera.listar_ingredientes()"
   ]
  },
  {
   "cell_type": "code",
   "execution_count": 17,
   "metadata": {
    "cell_id": "d1890bc44c104a85a090ee3e997e1df9",
    "colab": {
     "base_uri": "https://localhost:8080/",
     "height": 35
    },
    "deepnote_cell_type": "code",
    "deepnote_to_be_reexecuted": false,
    "executionInfo": {
     "elapsed": 4,
     "status": "ok",
     "timestamp": 1630289217727,
     "user": {
      "displayName": "Ignacio Meza",
      "photoUrl": "https://lh3.googleusercontent.com/a-/AOh14GhI9R2Sl9kpnSGYDYcmCbQ2_IwnY3_WeFFdC_YSXg=s64",
      "userId": "07738957670140287594"
     },
     "user_tz": 240
    },
    "execution_millis": 5,
    "execution_start": 1648863380098,
    "id": "ff555151",
    "outputId": "a1645680-8b1c-47d7-f2c0-111198632692",
    "source_hash": "7086345e"
   },
   "outputs": [
    {
     "name": "stdout",
     "output_type": "stream",
     "text": [
      "Alerta ⚠️: El jugo puede contener restos de pepas.\n"
     ]
    },
    {
     "data": {
      "text/plain": [
       "'Jugo de naranja, plátano listo. 🏖️🥤 Que lo disfrutes!!! 🥤🏖️.'"
      ]
     },
     "execution_count": 17,
     "metadata": {},
     "output_type": "execute_result"
    }
   ],
   "source": [
    "# Preparamos el jugo: 'Jugo de naranja, plátano listo. 🏖️🥤 Que lo disfrutes!!! 🥤🏖️.'\n",
    "jugera.preparar_jugo()"
   ]
  },
  {
   "cell_type": "code",
   "execution_count": 18,
   "metadata": {
    "cell_id": "323edee62a1d432d9ca2eadaa8a9f2c4",
    "colab": {
     "base_uri": "https://localhost:8080/"
    },
    "deepnote_cell_type": "code",
    "deepnote_to_be_reexecuted": false,
    "executionInfo": {
     "elapsed": 3,
     "status": "ok",
     "timestamp": 1630289219060,
     "user": {
      "displayName": "Ignacio Meza",
      "photoUrl": "https://lh3.googleusercontent.com/a-/AOh14GhI9R2Sl9kpnSGYDYcmCbQ2_IwnY3_WeFFdC_YSXg=s64",
      "userId": "07738957670140287594"
     },
     "user_tz": 240
    },
    "execution_millis": 0,
    "execution_start": 1648863382273,
    "id": "bbc532b2",
    "outputId": "b4c0f575-3a0c-45ab-dec0-6bd27b30d9e7",
    "source_hash": "6a032d0a"
   },
   "outputs": [
    {
     "name": "stdout",
     "output_type": "stream",
     "text": [
      "Bandeja vacía\n"
     ]
    }
   ],
   "source": [
    "# Una vez preparado el jugo, debería vaciarse la bandeja (imprimir Bandeja vacía)\n",
    "jugera.listar_ingredientes()"
   ]
  },
  {
   "cell_type": "markdown",
   "metadata": {
    "cell_id": "aa7c6610855d48bb85848283fe9fcca0",
    "deepnote_cell_height": 297.1875,
    "deepnote_cell_type": "markdown",
    "id": "972dbcac"
   },
   "source": [
    "### Clase Jugera + Properties  [1.0]\n",
    "\n",
    "Implementar `bandeja` usando una `property` que permita setear una `nueva_bandeja` como `bandeja` según las siguientes condiciones:\n",
    "\n",
    "\n",
    "- Compruebe que `nueva_bandeja` sea una lista. En caso contrario, levante una excepción.\n",
    "- No permita agregar más de 3 ingredientes a la bandeja a la vez. Si se entregan más de 3 frutas, se levante una excepción.\n",
    "- Se compruebe que todos los elementos de la lista sean frutas. Para esto, por cada fruta compruebe que:\n",
    "    1. La fruta sea diccionario.\n",
    "    2. El diccionario entregado tenga las llaves `nombre`, `tipo`, `color` y `pepas`."
   ]
  },
  {
   "cell_type": "code",
   "execution_count": 19,
   "metadata": {
    "cell_id": "806570623e07479eb9eb68009e97af06",
    "deepnote_cell_type": "code",
    "deepnote_to_be_reexecuted": false,
    "executionInfo": {
     "elapsed": 229,
     "status": "ok",
     "timestamp": 1631284838081,
     "user": {
      "displayName": "Ignacio Meza",
      "photoUrl": "https://lh3.googleusercontent.com/a-/AOh14GhI9R2Sl9kpnSGYDYcmCbQ2_IwnY3_WeFFdC_YSXg=s64",
      "userId": "07738957670140287594"
     },
     "user_tz": 180
    },
    "execution_millis": 5,
    "execution_start": 1648863394051,
    "id": "X3RXI9nisGfa",
    "source_hash": "68977855"
   },
   "outputs": [],
   "source": [
    "class Jugera_v2(Electrodomestico):\n",
    "    \n",
    "    def __init__(self):\n",
    "        super().__init__()\n",
    "        self._bandeja = []\n",
    "\n",
    "    @property\n",
    "    def bandeja(self):\n",
    "        return self._bandeja\n",
    "        \n",
    "    @bandeja.setter\n",
    "    def bandeja(self, nueva_bandeja):\n",
    "        if not isinstance(nueva_bandeja, list):\n",
    "            raise TypeError('La nueva bandeja no es una lista')\n",
    "        if len(nueva_bandeja) > 3:\n",
    "            raise Exception('Se agregaron más de 3 ingredientes')\n",
    "        for fruta in nueva_bandeja:\n",
    "            if not isinstance(fruta, dict):\n",
    "                raise Exception('Una fruta no está en el formato dict')\n",
    "            elif list(fruta.keys()) != ['nombre', 'tipo', 'color', 'pepas']:\n",
    "                raise Exception('Una fruta no tiene la información necesaria')\n",
    "        self._bandeja = nueva_bandeja\n",
    "            \n",
    "\n",
    "    def agregar_ingrediente(self, nueva_fruta):\n",
    "        self._bandeja.append(nueva_fruta)\n",
    "     \n",
    "    def listar_ingredientes(self):\n",
    "        if len(self._bandeja) < 1:\n",
    "            print('Bandeja vacía')\n",
    "        else:\n",
    "            frutas = ', '.join([fruta['nombre'] for fruta in self._bandeja])\n",
    "            print('Ingredientes en la bandeja: '+ frutas +'.')\n",
    "    \n",
    "    def preparar_jugo(self):\n",
    "        self.esta_enchufado()\n",
    "        if len(self._bandeja) < 1:\n",
    "            raise Exception('Error ❌: La bandeja no tiene ingredientes.')\n",
    "        \n",
    "        if len(filtrar_por_pepa_v2(self.bandeja, True)) >= 1:\n",
    "            print('Alerta ⚠️: El jugo puede contener restos de pepas.')\n",
    "        \n",
    "        frutas = \", \".join([fruta['nombre'] for fruta in self._bandeja])\n",
    "        mensaje = 'Jugo de '+ frutas + ' listo. 🏖️🥤 Que lo disfrutes!!! 🥤🏖️.'\n",
    "        self._bandeja = []\n",
    "        return mensaje"
   ]
  },
  {
   "cell_type": "markdown",
   "metadata": {
    "cell_id": "7002ed07ad6a435288ecbe4513d9d10e",
    "deepnote_cell_height": 122.796875,
    "deepnote_cell_type": "markdown",
    "tags": []
   },
   "source": [
    "### Interacciones\n",
    "\n",
    "Las siguientes celdas les permitirán probar las interacciones de esta clase.\n",
    "La ejecución es solo referencial y no lleva puntaje. La idea es que la utilice como guía para desarrollar la clase."
   ]
  },
  {
   "cell_type": "code",
   "execution_count": 20,
   "metadata": {
    "cell_id": "61fb1b1ad18b4e94a88a959780730c58",
    "deepnote_cell_type": "code",
    "deepnote_to_be_reexecuted": false,
    "execution_millis": 4,
    "execution_start": 1648863396777,
    "source_hash": "d7617c26",
    "tags": []
   },
   "outputs": [
    {
     "name": "stdout",
     "output_type": "stream",
     "text": [
      "Bandeja vacía\n"
     ]
    }
   ],
   "source": [
    "jugera_2 = Jugera_v2()\n",
    "\n",
    "jugera_2.listar_ingredientes()"
   ]
  },
  {
   "cell_type": "code",
   "execution_count": 21,
   "metadata": {
    "cell_id": "4089968aee614a0298c852722ac6b56c",
    "deepnote_cell_type": "code",
    "deepnote_to_be_reexecuted": false,
    "execution_millis": 18,
    "execution_start": 1648863398145,
    "source_hash": "480070d3",
    "tags": []
   },
   "outputs": [
    {
     "ename": "Exception",
     "evalue": "Alerta ⚠️: El electrodoméstico no está enchufado",
     "output_type": "error",
     "traceback": [
      "\u001b[1;31m---------------------------------------------------------------------------\u001b[0m",
      "\u001b[1;31mException\u001b[0m                                 Traceback (most recent call last)",
      "Cell \u001b[1;32mIn[21], line 1\u001b[0m\n\u001b[1;32m----> 1\u001b[0m \u001b[43mjugera_2\u001b[49m\u001b[38;5;241;43m.\u001b[39;49m\u001b[43mpreparar_jugo\u001b[49m\u001b[43m(\u001b[49m\u001b[43m)\u001b[49m\n",
      "Cell \u001b[1;32mIn[19], line 36\u001b[0m, in \u001b[0;36mJugera_v2.preparar_jugo\u001b[1;34m(self)\u001b[0m\n\u001b[0;32m     35\u001b[0m \u001b[38;5;28;01mdef\u001b[39;00m \u001b[38;5;21mpreparar_jugo\u001b[39m(\u001b[38;5;28mself\u001b[39m):\n\u001b[1;32m---> 36\u001b[0m     \u001b[38;5;28;43mself\u001b[39;49m\u001b[38;5;241;43m.\u001b[39;49m\u001b[43mesta_enchufado\u001b[49m\u001b[43m(\u001b[49m\u001b[43m)\u001b[49m\n\u001b[0;32m     37\u001b[0m     \u001b[38;5;28;01mif\u001b[39;00m \u001b[38;5;28mlen\u001b[39m(\u001b[38;5;28mself\u001b[39m\u001b[38;5;241m.\u001b[39m_bandeja) \u001b[38;5;241m<\u001b[39m \u001b[38;5;241m1\u001b[39m:\n\u001b[0;32m     38\u001b[0m         \u001b[38;5;28;01mraise\u001b[39;00m \u001b[38;5;167;01mException\u001b[39;00m(\u001b[38;5;124m'\u001b[39m\u001b[38;5;124mError ❌: La bandeja no tiene ingredientes.\u001b[39m\u001b[38;5;124m'\u001b[39m)\n",
      "Cell \u001b[1;32mIn[10], line 8\u001b[0m, in \u001b[0;36mElectrodomestico.esta_enchufado\u001b[1;34m(self)\u001b[0m\n\u001b[0;32m      6\u001b[0m \u001b[38;5;28;01mdef\u001b[39;00m \u001b[38;5;21mesta_enchufado\u001b[39m(\u001b[38;5;28mself\u001b[39m):\n\u001b[0;32m      7\u001b[0m   \u001b[38;5;28;01mif\u001b[39;00m \u001b[38;5;129;01mnot\u001b[39;00m \u001b[38;5;28mself\u001b[39m\u001b[38;5;241m.\u001b[39menchufado:\n\u001b[1;32m----> 8\u001b[0m     \u001b[38;5;28;01mraise\u001b[39;00m \u001b[38;5;167;01mException\u001b[39;00m(\u001b[38;5;124m'\u001b[39m\u001b[38;5;124mAlerta ⚠️: El electrodoméstico no está enchufado\u001b[39m\u001b[38;5;124m'\u001b[39m)\n",
      "\u001b[1;31mException\u001b[0m: Alerta ⚠️: El electrodoméstico no está enchufado"
     ]
    }
   ],
   "source": [
    "jugera_2.preparar_jugo()"
   ]
  },
  {
   "cell_type": "code",
   "execution_count": 22,
   "metadata": {
    "cell_id": "c22db666b01740409ea10d8c65c3f4f0",
    "deepnote_cell_type": "code",
    "deepnote_to_be_reexecuted": false,
    "execution_millis": 3,
    "execution_start": 1648863398900,
    "source_hash": "d3e1edd9",
    "tags": []
   },
   "outputs": [],
   "source": [
    "# Enchufamos el electrodoméstico\n",
    "jugera_2.enchufar()"
   ]
  },
  {
   "cell_type": "code",
   "execution_count": 23,
   "metadata": {
    "cell_id": "b278da54f71e446ab773a9be8e47a921",
    "deepnote_cell_type": "code",
    "deepnote_to_be_reexecuted": false,
    "execution_millis": 17,
    "execution_start": 1648863400238,
    "source_hash": "b81f1f5b",
    "tags": []
   },
   "outputs": [
    {
     "ename": "Exception",
     "evalue": "Error ❌: La bandeja no tiene ingredientes.",
     "output_type": "error",
     "traceback": [
      "\u001b[1;31m---------------------------------------------------------------------------\u001b[0m",
      "\u001b[1;31mException\u001b[0m                                 Traceback (most recent call last)",
      "Cell \u001b[1;32mIn[23], line 2\u001b[0m\n\u001b[0;32m      1\u001b[0m \u001b[38;5;66;03m# Esta celda debería levantar ina excepción informandoles que la bandeja no tiene ingredientes.\u001b[39;00m\n\u001b[1;32m----> 2\u001b[0m \u001b[43mjugera_2\u001b[49m\u001b[38;5;241;43m.\u001b[39;49m\u001b[43mpreparar_jugo\u001b[49m\u001b[43m(\u001b[49m\u001b[43m)\u001b[49m\n",
      "Cell \u001b[1;32mIn[19], line 38\u001b[0m, in \u001b[0;36mJugera_v2.preparar_jugo\u001b[1;34m(self)\u001b[0m\n\u001b[0;32m     36\u001b[0m \u001b[38;5;28mself\u001b[39m\u001b[38;5;241m.\u001b[39mesta_enchufado()\n\u001b[0;32m     37\u001b[0m \u001b[38;5;28;01mif\u001b[39;00m \u001b[38;5;28mlen\u001b[39m(\u001b[38;5;28mself\u001b[39m\u001b[38;5;241m.\u001b[39m_bandeja) \u001b[38;5;241m<\u001b[39m \u001b[38;5;241m1\u001b[39m:\n\u001b[1;32m---> 38\u001b[0m     \u001b[38;5;28;01mraise\u001b[39;00m \u001b[38;5;167;01mException\u001b[39;00m(\u001b[38;5;124m'\u001b[39m\u001b[38;5;124mError ❌: La bandeja no tiene ingredientes.\u001b[39m\u001b[38;5;124m'\u001b[39m)\n\u001b[0;32m     40\u001b[0m \u001b[38;5;28;01mif\u001b[39;00m \u001b[38;5;28mlen\u001b[39m(filtrar_por_pepa_v2(\u001b[38;5;28mself\u001b[39m\u001b[38;5;241m.\u001b[39mbandeja, \u001b[38;5;28;01mTrue\u001b[39;00m)) \u001b[38;5;241m>\u001b[39m\u001b[38;5;241m=\u001b[39m \u001b[38;5;241m1\u001b[39m:\n\u001b[0;32m     41\u001b[0m     \u001b[38;5;28mprint\u001b[39m(\u001b[38;5;124m'\u001b[39m\u001b[38;5;124mAlerta ⚠️: El jugo puede contener restos de pepas.\u001b[39m\u001b[38;5;124m'\u001b[39m)\n",
      "\u001b[1;31mException\u001b[0m: Error ❌: La bandeja no tiene ingredientes."
     ]
    }
   ],
   "source": [
    "# Esta celda debería levantar ina excepción informandoles que la bandeja no tiene ingredientes.\n",
    "jugera_2.preparar_jugo()"
   ]
  },
  {
   "cell_type": "code",
   "execution_count": 24,
   "metadata": {
    "cell_id": "3ad3896a485947d99be890cffca26f08",
    "deepnote_cell_type": "code",
    "deepnote_to_be_reexecuted": false,
    "execution_millis": 482,
    "execution_start": 1648863402271,
    "source_hash": "a016a727",
    "tags": []
   },
   "outputs": [
    {
     "ename": "Exception",
     "evalue": "Se agregaron más de 3 ingredientes",
     "output_type": "error",
     "traceback": [
      "\u001b[1;31m---------------------------------------------------------------------------\u001b[0m",
      "\u001b[1;31mException\u001b[0m                                 Traceback (most recent call last)",
      "Cell \u001b[1;32mIn[24], line 2\u001b[0m\n\u001b[0;32m      1\u001b[0m \u001b[38;5;66;03m# Agregamos algunos ingredientes (en este caso, como son más de 3, fallará)\u001b[39;00m\n\u001b[1;32m----> 2\u001b[0m jugera_2\u001b[38;5;241m.\u001b[39mbandeja \u001b[38;5;241m=\u001b[39m [naranja, platano, frutilla, limon]\n",
      "Cell \u001b[1;32mIn[19], line 16\u001b[0m, in \u001b[0;36mJugera_v2.bandeja\u001b[1;34m(self, nueva_bandeja)\u001b[0m\n\u001b[0;32m     14\u001b[0m     \u001b[38;5;28;01mraise\u001b[39;00m \u001b[38;5;167;01mTypeError\u001b[39;00m(\u001b[38;5;124m'\u001b[39m\u001b[38;5;124mLa nueva bandeja no es una lista\u001b[39m\u001b[38;5;124m'\u001b[39m)\n\u001b[0;32m     15\u001b[0m \u001b[38;5;28;01mif\u001b[39;00m \u001b[38;5;28mlen\u001b[39m(nueva_bandeja) \u001b[38;5;241m>\u001b[39m \u001b[38;5;241m3\u001b[39m:\n\u001b[1;32m---> 16\u001b[0m     \u001b[38;5;28;01mraise\u001b[39;00m \u001b[38;5;167;01mException\u001b[39;00m(\u001b[38;5;124m'\u001b[39m\u001b[38;5;124mSe agregaron más de 3 ingredientes\u001b[39m\u001b[38;5;124m'\u001b[39m)\n\u001b[0;32m     17\u001b[0m \u001b[38;5;28;01mfor\u001b[39;00m fruta \u001b[38;5;129;01min\u001b[39;00m nueva_bandeja:\n\u001b[0;32m     18\u001b[0m     \u001b[38;5;28;01mif\u001b[39;00m \u001b[38;5;129;01mnot\u001b[39;00m \u001b[38;5;28misinstance\u001b[39m(fruta, \u001b[38;5;28mdict\u001b[39m):\n",
      "\u001b[1;31mException\u001b[0m: Se agregaron más de 3 ingredientes"
     ]
    }
   ],
   "source": [
    "# Agregamos algunos ingredientes (en este caso, como son más de 3, fallará)\n",
    "jugera_2.bandeja = [naranja, platano, frutilla, limon]"
   ]
  },
  {
   "cell_type": "code",
   "execution_count": 25,
   "metadata": {
    "cell_id": "314f0f7e4621417b973ff5202c24e2b0",
    "deepnote_cell_type": "code",
    "deepnote_to_be_reexecuted": false,
    "execution_millis": 20,
    "execution_start": 1648863404537,
    "source_hash": "561a3ff9",
    "tags": []
   },
   "outputs": [
    {
     "ename": "Exception",
     "evalue": "Una fruta no está en el formato dict",
     "output_type": "error",
     "traceback": [
      "\u001b[1;31m---------------------------------------------------------------------------\u001b[0m",
      "\u001b[1;31mException\u001b[0m                                 Traceback (most recent call last)",
      "Cell \u001b[1;32mIn[25], line 3\u001b[0m\n\u001b[0;32m      1\u001b[0m \u001b[38;5;66;03m# Agregamos algunos ingredientes \u001b[39;00m\n\u001b[0;32m      2\u001b[0m \u001b[38;5;66;03m# (en este caso debería fallar, ya que estamos entregando un string en el primer lugar)\u001b[39;00m\n\u001b[1;32m----> 3\u001b[0m jugera_2\u001b[38;5;241m.\u001b[39mbandeja \u001b[38;5;241m=\u001b[39m [\u001b[38;5;124m\"\u001b[39m\u001b[38;5;124mnaranja\u001b[39m\u001b[38;5;124m\"\u001b[39m, platano, frutilla]\n",
      "Cell \u001b[1;32mIn[19], line 19\u001b[0m, in \u001b[0;36mJugera_v2.bandeja\u001b[1;34m(self, nueva_bandeja)\u001b[0m\n\u001b[0;32m     17\u001b[0m \u001b[38;5;28;01mfor\u001b[39;00m fruta \u001b[38;5;129;01min\u001b[39;00m nueva_bandeja:\n\u001b[0;32m     18\u001b[0m     \u001b[38;5;28;01mif\u001b[39;00m \u001b[38;5;129;01mnot\u001b[39;00m \u001b[38;5;28misinstance\u001b[39m(fruta, \u001b[38;5;28mdict\u001b[39m):\n\u001b[1;32m---> 19\u001b[0m         \u001b[38;5;28;01mraise\u001b[39;00m \u001b[38;5;167;01mException\u001b[39;00m(\u001b[38;5;124m'\u001b[39m\u001b[38;5;124mUna fruta no está en el formato dict\u001b[39m\u001b[38;5;124m'\u001b[39m)\n\u001b[0;32m     20\u001b[0m     \u001b[38;5;28;01melif\u001b[39;00m \u001b[38;5;28mlist\u001b[39m(fruta\u001b[38;5;241m.\u001b[39mkeys()) \u001b[38;5;241m!=\u001b[39m [\u001b[38;5;124m'\u001b[39m\u001b[38;5;124mnombre\u001b[39m\u001b[38;5;124m'\u001b[39m, \u001b[38;5;124m'\u001b[39m\u001b[38;5;124mtipo\u001b[39m\u001b[38;5;124m'\u001b[39m, \u001b[38;5;124m'\u001b[39m\u001b[38;5;124mcolor\u001b[39m\u001b[38;5;124m'\u001b[39m, \u001b[38;5;124m'\u001b[39m\u001b[38;5;124mpepas\u001b[39m\u001b[38;5;124m'\u001b[39m]:\n\u001b[0;32m     21\u001b[0m         \u001b[38;5;28;01mraise\u001b[39;00m \u001b[38;5;167;01mException\u001b[39;00m(\u001b[38;5;124m'\u001b[39m\u001b[38;5;124mUna fruta no tiene la información necesaria\u001b[39m\u001b[38;5;124m'\u001b[39m)\n",
      "\u001b[1;31mException\u001b[0m: Una fruta no está en el formato dict"
     ]
    }
   ],
   "source": [
    "# Agregamos algunos ingredientes \n",
    "# (en este caso debería fallar, ya que estamos entregando un string en el primer lugar)\n",
    "jugera_2.bandeja = [\"naranja\", platano, frutilla]"
   ]
  },
  {
   "cell_type": "code",
   "execution_count": 26,
   "metadata": {
    "cell_id": "976577e8b66343e38704f8597e85f175",
    "deepnote_cell_type": "code",
    "deepnote_to_be_reexecuted": false,
    "execution_millis": 2,
    "execution_start": 1648863408300,
    "source_hash": "ecc3586",
    "tags": []
   },
   "outputs": [
    {
     "ename": "Exception",
     "evalue": "Una fruta no tiene la información necesaria",
     "output_type": "error",
     "traceback": [
      "\u001b[1;31m---------------------------------------------------------------------------\u001b[0m",
      "\u001b[1;31mException\u001b[0m                                 Traceback (most recent call last)",
      "Cell \u001b[1;32mIn[26], line 3\u001b[0m\n\u001b[0;32m      1\u001b[0m \u001b[38;5;66;03m# Agregamos algunos ingredientes \u001b[39;00m\n\u001b[0;32m      2\u001b[0m \u001b[38;5;66;03m# (en este caso debería fallar, ya que arándando tiene solo la llave nombre)\u001b[39;00m\n\u001b[1;32m----> 3\u001b[0m jugera_2\u001b[38;5;241m.\u001b[39mbandeja \u001b[38;5;241m=\u001b[39m [{\u001b[38;5;124m'\u001b[39m\u001b[38;5;124mnombre\u001b[39m\u001b[38;5;124m'\u001b[39m: \u001b[38;5;124m'\u001b[39m\u001b[38;5;124marándano\u001b[39m\u001b[38;5;124m'\u001b[39m}, platano, frutilla]\n",
      "Cell \u001b[1;32mIn[19], line 21\u001b[0m, in \u001b[0;36mJugera_v2.bandeja\u001b[1;34m(self, nueva_bandeja)\u001b[0m\n\u001b[0;32m     19\u001b[0m         \u001b[38;5;28;01mraise\u001b[39;00m \u001b[38;5;167;01mException\u001b[39;00m(\u001b[38;5;124m'\u001b[39m\u001b[38;5;124mUna fruta no está en el formato dict\u001b[39m\u001b[38;5;124m'\u001b[39m)\n\u001b[0;32m     20\u001b[0m     \u001b[38;5;28;01melif\u001b[39;00m \u001b[38;5;28mlist\u001b[39m(fruta\u001b[38;5;241m.\u001b[39mkeys()) \u001b[38;5;241m!=\u001b[39m [\u001b[38;5;124m'\u001b[39m\u001b[38;5;124mnombre\u001b[39m\u001b[38;5;124m'\u001b[39m, \u001b[38;5;124m'\u001b[39m\u001b[38;5;124mtipo\u001b[39m\u001b[38;5;124m'\u001b[39m, \u001b[38;5;124m'\u001b[39m\u001b[38;5;124mcolor\u001b[39m\u001b[38;5;124m'\u001b[39m, \u001b[38;5;124m'\u001b[39m\u001b[38;5;124mpepas\u001b[39m\u001b[38;5;124m'\u001b[39m]:\n\u001b[1;32m---> 21\u001b[0m         \u001b[38;5;28;01mraise\u001b[39;00m \u001b[38;5;167;01mException\u001b[39;00m(\u001b[38;5;124m'\u001b[39m\u001b[38;5;124mUna fruta no tiene la información necesaria\u001b[39m\u001b[38;5;124m'\u001b[39m)\n\u001b[0;32m     22\u001b[0m \u001b[38;5;28mself\u001b[39m\u001b[38;5;241m.\u001b[39m_bandeja \u001b[38;5;241m=\u001b[39m nueva_bandeja\n",
      "\u001b[1;31mException\u001b[0m: Una fruta no tiene la información necesaria"
     ]
    }
   ],
   "source": [
    "# Agregamos algunos ingredientes \n",
    "# (en este caso debería fallar, ya que arándando tiene solo la llave nombre)\n",
    "jugera_2.bandeja = [{'nombre': 'arándano'}, platano, frutilla]"
   ]
  },
  {
   "cell_type": "code",
   "execution_count": 27,
   "metadata": {
    "cell_id": "4403aaea7e044305bb5a8488d71e42f9",
    "deepnote_cell_type": "code",
    "deepnote_to_be_reexecuted": false,
    "execution_millis": 6,
    "execution_start": 1648863409767,
    "source_hash": "b2bcbf",
    "tags": []
   },
   "outputs": [
    {
     "name": "stdout",
     "output_type": "stream",
     "text": [
      "Ingredientes en la bandeja: naranja, plátano, frutilla.\n"
     ]
    }
   ],
   "source": [
    "# Agregamos algunos ingredientes (en este caso, como son 3, debería funcionar)\n",
    "jugera_2.bandeja = [naranja, platano, frutilla]\n",
    "\n",
    "# Y los listamos (debería imprimir: 'Ingredientes en la bandeja: naranja, plátano, frutilla')\n",
    "jugera_2.listar_ingredientes()"
   ]
  },
  {
   "cell_type": "code",
   "execution_count": 28,
   "metadata": {
    "cell_id": "4b88a24abdc44fcfb5ea294a852bf921",
    "deepnote_cell_type": "code",
    "deepnote_to_be_reexecuted": false,
    "execution_millis": 5,
    "execution_start": 1648863411760,
    "source_hash": "a9d685c1",
    "tags": []
   },
   "outputs": [
    {
     "name": "stdout",
     "output_type": "stream",
     "text": [
      "Alerta ⚠️: El jugo puede contener restos de pepas.\n"
     ]
    },
    {
     "data": {
      "text/plain": [
       "'Jugo de naranja, plátano, frutilla listo. 🏖️🥤 Que lo disfrutes!!! 🥤🏖️.'"
      ]
     },
     "execution_count": 28,
     "metadata": {},
     "output_type": "execute_result"
    }
   ],
   "source": [
    "# Una vez preparado el jugo, imprima el contenido del jugo y si una alerta, \n",
    "# en el caso que el jugo tenga pepas.\n",
    "jugera_2.preparar_jugo()"
   ]
  },
  {
   "cell_type": "code",
   "execution_count": 29,
   "metadata": {
    "cell_id": "5d8468e21edd4cecab85b9c04df71094",
    "deepnote_cell_type": "code"
   },
   "outputs": [
    {
     "name": "stdout",
     "output_type": "stream",
     "text": [
      "Bandeja vacía\n"
     ]
    }
   ],
   "source": [
    "# Una vez preparado el jugo, debería vaciarse la bandeja (imprimir Bandeja vacía)\n",
    "jugera_2.listar_ingredientes()"
   ]
  }
 ],
 "metadata": {
  "colab": {
   "collapsed_sections": [],
   "name": "Lab1_pauta.ipynb",
   "provenance": []
  },
  "deepnote": {},
  "deepnote_execution_queue": [],
  "deepnote_notebook_id": "9ab947a9e176401fb56de9443c666a4a",
  "kernelspec": {
   "display_name": "Python 3 (ipykernel)",
   "language": "python",
   "name": "python3"
  },
  "language_info": {
   "codemirror_mode": {
    "name": "ipython",
    "version": 3
   },
   "file_extension": ".py",
   "mimetype": "text/x-python",
   "name": "python",
   "nbconvert_exporter": "python",
   "pygments_lexer": "ipython3",
   "version": "3.10.8"
  }
 },
 "nbformat": 4,
 "nbformat_minor": 4
}
