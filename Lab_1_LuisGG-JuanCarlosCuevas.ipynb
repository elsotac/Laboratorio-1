{
 "cells": [
  {
   "cell_type": "markdown",
   "metadata": {
    "id": "J4_IcuuKZj9Y"
   },
   "source": [
    "<h1><center>Laboratorio 1: Git 👾</center></h1>\n",
    "\n",
    "<center><strong>MDS7202: Laboratorio de Programación Científica para Ciencia de Datos - Otoño 2023</strong></center>"
   ]
  },
  {
   "cell_type": "markdown",
   "metadata": {
    "id": "AEXIACc7aADv"
   },
   "source": [
    "### Cuerpo Docente:\n",
    "\n",
    "- Profesores: Pablo Badilla, Ignacio Meza D.\n",
    "- Auxiliar: Sebastián Tinoco\n",
    "- Ayudante: Diego Cortez"
   ]
  },
  {
   "cell_type": "markdown",
   "metadata": {
    "id": "0HgMMyoCaG8X"
   },
   "source": [
    "### Equipo: SUPER IMPORTANTE - notebooks sin nombre no serán revisados\n",
    "\n",
    "- Nombre de alumno 1: Luis Gutiérrez\n",
    "- Nombre de alumno 2: Juan Carlos Cuevas "
   ]
  },
  {
   "cell_type": "markdown",
   "metadata": {
    "id": "fz77X6glaK6y"
   },
   "source": [
    "### **Link de repositorio de GitHub:** `...`"
   ]
  },
  {
   "cell_type": "markdown",
   "metadata": {
    "id": "rRwqaxIZaNx3"
   },
   "source": [
    "## Reglas:\n",
    "\n",
    "- Fecha de entrega: 6 días desde la publicación, 3 días de atraso con 1 punto de descuento c/u. Pueden utilizar días bonus sin descuento.\n",
    "- **Grupos de 2 personas**.\n",
    "- **Ausentes** deberán realizar la actividad solos. \n",
    "- Cualquier duda fuera del horario de clases al foro. Mensajes al equipo docente serán respondidos por este medio.\n",
    "- <u>Prohibidas las copias</u>. Cualquier intento de copia será debidamente penalizado con el reglamento de la escuela.\n",
    "- Pueden usar cualquer material del curso que estimen conveniente.\n",
    "- Asistencia obligatoria a instrucciones del lab (viernes 16.15). Luego, pueden quedarse trabajando en las salas o irse."
   ]
  },
  {
   "cell_type": "markdown",
   "metadata": {
    "id": "bmToL27JaSrf"
   },
   "source": [
    "## Objetivos del lab:\n",
    "\n",
    "\n",
    "- Conocer los elementos básicos que conformar `Git`\n",
    "- Clonar repositorios\n",
    "- Identificar ramas de un repositorio\n",
    "- Reconocer y solucionar problemas entre ramas\n",
    "- Subir cambios a un repositorio"
   ]
  },
  {
   "cell_type": "markdown",
   "metadata": {
    "id": "bvnPCvrVbJLK"
   },
   "source": [
    "## Parte 1: Conocimiento Teórico (2 pts)"
   ]
  },
  {
   "cell_type": "markdown",
   "metadata": {
    "id": "JHl-24XnbNLF"
   },
   "source": [
    "Responda las siguientes preguntas (0.2 pts c/u):\n",
    "\n",
    "1. ¿Qué es `Git` y cómo se relaciona con el control de versiones?\n",
    "\n",
    "2. Nombre y explique 3 diferencias entre `Git` y `Github`.\n",
    "\n",
    "3. ¿Qué es un `hash` y cómo se representa en un `commit`? De un ejemplo.\n",
    "\n",
    "4. ¿Que elementos componen a la estructura de datos de `Git`?\n",
    "\n",
    "5. ¿Que comandos de `Git` sirven para crear un repositorio y hacer seguimiento a cambios en los archivos?"
   ]
  },
  {
   "cell_type": "markdown",
   "metadata": {
    "id": "2tXCSkf0caG8"
   },
   "source": [
    "<code>Escriba sus respuestas acá:</code>\n",
    "\n",
    "1. Git es un software de Sistema de Control de Versiones Distribuido (DVCS) el cual almacena de forma local. \n",
    "\n",
    "2. Algunas de las diferencias son:\n",
    "- Git es una herramienta de linea de comando, y github es un servicio de almacenamiento en la nube.\n",
    "- Git es una herramienta de código abierto, por otro lado github es una plataforma que puede ser de libre uso o de pago.\n",
    "\n",
    "3. Un hash es una función que transforma un conjunto de datos de entrada en una expresion alfanumérica de longitud predeterminada, sirve generalmente como identificador debido a sus propiedades de inyectividad y representatividad, en particular las funciones hash SHA-1 producen un valor hash de 160 bits representado como 40 dígitos. <br>\n",
    "Además, en git, un hash es el id que permite rastrear una versión de código, cada commit tiene un código hash que permite identificar los cambios hechos en esa iteración.\n",
    "\n",
    "4. Los elementos que componen la estructura de datos de Git son: <br>\n",
    "- blob: es la unidad básica de almacenamiento de Git. Almacena todo el contenido de un archivo y cuando es modificado se crea uno nuevo con toda la información anterior junto con los nuevos cambios. <br>\n",
    "- Tree: corresponde a un directorio para los blobs y otros Tree. Siempre hay un árbol en la raíz. <br>\n",
    "- commit: corresponde a snapshots que registran y consolidan los cambios realizados en los blobs y trees, similar a un registro de modificaciones.<br>\n",
    "\n",
    "5. Los comandos en git para crear un repositorio son: \n",
    "- git init - > crea un respositorio vacío en la carpeta actual. <br>\n",
    "- git clone - > Clona un repositorio ya creado por alguien más. <br>\n",
    "- git add  - > agrega archivos al repositorio a espera del commit. <br>\n",
    "- git commit - > genera los cambios en el repositorio. <br>\n",
    "- git log  - > reporta los commits realizados, así como la información de estos (autor, fecha, etc)."
   ]
  },
  {
   "cell_type": "markdown",
   "metadata": {
    "id": "MACccbP4gU43"
   },
   "source": [
    "Responda si las siguientes afirmaciones son Verdaderas (V) o Falsas (F). Justifique en **cualquiera** de los casos (0.2 pts c/u):\n",
    "\n",
    "\n",
    "6. `Git` siempre resuelve automáticamente los problemas de lineas al hacer merge entre diferentes ramas.\n",
    "7. Ejecutar `git pull` sobre un repositorio es equivalente a ejecutar `git clone`.\n",
    "8. Cada miembro del equipo trabaja en la misma copia del código fuente usando `Git`.\n",
    "9. En `Git` es posible deshacer cambios y volver a versiones anteriores del código.\n",
    "10. El comando `git commit` se utiliza para enviar cambios al repositorio remoto."
   ]
  },
  {
   "cell_type": "markdown",
   "metadata": {
    "id": "DFnmCToOgeM3"
   },
   "source": [
    "<code>Escriba sus respuestas acá:</code>\n",
    "\n",
    "6. Falso, cuando hay diferencia pregunta que desea hacer.\n",
    "7. Falso, git pull permite ver las diferencias entre el estado actual de tu repositorio y el que quieres vs clone que sirve para copiar el repositorio nuevamente.\n",
    "8. Falso, Cada miembro del equipo clona el repositorio en su espacio de trabajo, y trabajan con SU PROPIA COPIA del código de fuente, no todos en la misma al mismo tiempo.\n",
    "9. Verdadero. Se puede volver a algún commit, además de los comandos git reset y git revert.\n",
    "10. Falso, para enviar los cambios utilizamos git push, commit solo hace los cambios de manera local.\n"
   ]
  },
  {
   "cell_type": "markdown",
   "metadata": {
    "id": "i7Em9JkbbRLo"
   },
   "source": [
    "## Parte 2: Creando una presentación personal (2 pts)"
   ]
  },
  {
   "cell_type": "markdown",
   "metadata": {
    "id": "XWIHfyrlbYOJ"
   },
   "source": [
    "Para empezar a \"*soltar las manos*\" con `Git`, se les encomienda crear un repositorio con una presentación personal. El repositorio debe contener un breve resumen de quienes son ustedes, sus gustos, experiencias, y cualquier otro detalle interesante que ustedes consideren relevante. \n",
    "\n",
    "Para realizar esto, deben seguir los siguientes pasos:\n",
    "\n",
    "1. Contar con una cuenta de github (1 por persona)\n",
    "2. Crear un repositorio con su nombre de usuario\n",
    "3. Crear y modificar un archivo `readme.md` con la información que ustedes deseen compartir.\n",
    "\n",
    "A modo de ejemplo, pueden guiarse por esta *suculenta* [presentación](https://github.com/pbadillatorrealba/pbadillatorrealba).\n",
    "\n",
    "*Hint: Una buena opción es usar templates de presentación personal que encuentren en Google, como los que ofrece este [sitio](https://durgeshsamariya.github.io/awesome-github-profile-readme-templates/#/)*.\n",
    "\n",
    "**Entregable:**\n",
    "\n",
    "Enlace al repositorio con la presentación personal. \n",
    "\n",
    "IMPORTANTE: DEBEN ADJUNTAR UN ENLACE POR PERSONA"
   ]
  },
  {
   "cell_type": "markdown",
   "metadata": {
    "id": "IIkWyl9tf0Sg"
   },
   "source": [
    "<code>Link Presentacion 1:</code>\n",
    "\n",
    "[Presentación Luis Gutierrez](https://github.com/LuisGutierrezG/LuisGutierrezG-LABS).\n",
    "\n",
    "\n",
    "<code>Link Presentacion 2:</code>\n",
    "\n",
    "[Presentación Juan Cuevas](https://github.com/elsotac)"
   ]
  },
  {
   "cell_type": "markdown",
   "metadata": {
    "id": "CAzXOwvDY-IG"
   },
   "source": [
    "## Parte 3: Trabajando sobre un repositorio externo (2 pts)"
   ]
  },
  {
   "cell_type": "markdown",
   "metadata": {
    "id": "84Yjuxxvdfzh"
   },
   "source": [
    "Tras muchos dolores de cabeza, un grupo de entusiastas académicos decidieron aprender sobre `Git` y así trabajar colaborativamente de forma más ordenada y eficiente. Después de una infinidad de intentos y aprender de sus errores \"*a la mala*\", los académicos lograron levantar un [repositorio](https://github.com/MDS7202/lab1) en `Github`. Usando el repositorio de los académicos, responda las siguientes preguntas (incluya también los comandos en `Git` ocupados):"
   ]
  },
  {
   "cell_type": "markdown",
   "metadata": {
    "id": "BFRnAw0rfguR"
   },
   "source": [
    "1. Clone el repositorio a su ambiente local. (0.25 pts)"
   ]
  },
  {
   "cell_type": "markdown",
   "metadata": {
    "id": "KXro32yBeilN"
   },
   "source": [
    "<code>Escriba sus respuestas acá:</code>\n",
    "\n",
    "git clone https://github.com/MDS7202/lab1.git"
   ]
  },
  {
   "cell_type": "markdown",
   "metadata": {
    "id": "q2qmiDyjt2M_"
   },
   "source": [
    "2. Inspeccione brevemente el repositorio: ¿Cual es el objetivo del proyecto? Explique brevemente la estructura del proyecto, asi como también de cada componente que lo conforma. (0.25 pts)\n",
    "\n",
    "\n"
   ]
  },
  {
   "cell_type": "markdown",
   "metadata": {
    "id": "aBHpR8VTftkT"
   },
   "source": [
    "<code>Escriba sus respuestas acá:</code>\n",
    "\n",
    "El repositorio tiene 3 archivos:\n",
    "1. README: Solo nos dice que el repositorio es para emular sonidos de animales.\n",
    "2. animales.py: Módulo que tiene una función que recibe un input y retorna los sonidos del animal, actualmente solo tiene respuesta para los animales 'gato', 'perro', 'fox', 'otro'.\n",
    "3. main.py: Pregunta por el sonido de animal que se quiere saber, e invoca a la función de animales.py para dar una respuesta.\n"
   ]
  },
  {
   "cell_type": "markdown",
   "metadata": {
    "id": "XFwqcpLZfylf"
   },
   "source": [
    "3. Identifique los últimos cambios al repositorio, reconociendo las principales ramas de trabajo. ¿Son informativos los `commit` realizados? (0.25 pts)\n",
    "*Hint: Se recomienda usar los argumentos `all`, `graph` y `decorate`*"
   ]
  },
  {
   "cell_type": "markdown",
   "metadata": {
    "id": "cmWfXBkOhog0"
   },
   "source": [
    "<code>Escriba sus respuestas acá:</code>\n",
    "\n",
    "Ejecutando <code> git log --all </code> es posible ver que la rama tiene 3 commit, el primero se llama \"primer commit\" el segundo \"se agrega función\" y el tercero \"se separa el proyecto en modulos\".  Los primeros dos no son nada informativos, ya que no menciona cual es el cambio realizado y en el segundo no se dice que es lo que hace la función implementada. El tercero y más reciente pareciera dar más información, pero podría ser más detallado sobre los archivos que cambia."
   ]
  },
  {
   "cell_type": "markdown",
   "metadata": {
    "id": "Vqbj9HdXrUnN"
   },
   "source": [
    "4. Uno de los académicos se da cuenta que la rama principal de trabajo no se ejecuta correctamente para todos los argumentos. Señale el error en el código e identifique a la persona que lo cometió usando `git blame` (0.25 pts)\n",
    "\n",
    "*Hint: Le puede ser útil esta [documentación](https://www.atlassian.com/es/git/tutorials/inspecting-a-repository/git-blame).*"
   ]
  },
  {
   "cell_type": "markdown",
   "metadata": {
    "id": "5ajhV2Iar3tV"
   },
   "source": [
    "<code>Escriba sus respuestas acá:</code>\n",
    "\n",
    "Si nos fijamos en la rama main, en el código \"animales.py\" , la función retorna error aunque el argumento usado sea el correcto, esto se debe a que se estan utilizando tres \"if\" seguidos, lo que genera que la función consulte si es que el input es \"perro/gato\" o \"fox\", por ejemplo, si se ingresa el input \"perro\", la función retornará \"guau\" debido a que se cumple la condición del segundo if, sin embargo, tambien consulta si es que \"perro\" es \"fox\" en el tercer if, generando el error en cuestión, esto se puede corregir simplemente cambiado los ifs por elifs.\n",
    "\n",
    "Si usamos el comando \"git blame animales.py\" podemos ver que el autor que modificó esta sección del código es el usuario \"mezoski\", sin embargo, revisando el commit \"c8b1a62d7299552b0654f930d695b33109214111\" se puede ver que el autor de dicha sección del código fue el usuario \"seba\"."
   ]
  },
  {
   "cell_type": "markdown",
   "metadata": {
    "id": "m8J3uE7MhqTA"
   },
   "source": [
    "5. Busque los siguientes `commit`:\n",
    "\n",
    "- `c8b1a62d7299552b0654f930d695b33109214111`\n",
    "- `362fe21ee44f53ee944cee4ba484600308f83d78`\n",
    "- `25543a3baf77292baf849726784ca005473acab1`\n",
    "\n",
    "¿Qué diferencias existen entre cada uno? (0.25 pts)"
   ]
  },
  {
   "cell_type": "markdown",
   "metadata": {
    "id": "sNHnZsgIitGh"
   },
   "source": [
    "<code>Escriba sus respuestas acá:</code>\n",
    "\n",
    "git checkout commit:\n",
    "\n",
    "- `c8b1a62d7299552b0654f930d695b33109214111`: Tiene solo main.py y readme.md. <br>\n",
    "Tiene la función animales() dentro del main, además, esta tiene 3 if's (posible error).\n",
    "\n",
    "- `362fe21ee44f53ee944cee4ba484600308f83d78`: Tiene los 3 elementos de la rama main. <br>\n",
    "A diferencia con el commit anterior, este tiene un nuevo archivo animals.py, donde está la función animals(), la cual es invocada luego desde el archivo main.py\n",
    "\n",
    "- `25543a3baf77292baf849726784ca005473acab1`: Tiene solo un main.py y readme.md. <br>\n",
    "Esta versión aún tiene la función animals() definida dentro del main.py, pero corrige el problema de los if repetitivos por elif.\n"
   ]
  },
  {
   "cell_type": "markdown",
   "metadata": {
    "id": "WQIPbfNCgpxC"
   },
   "source": [
    "6. Realice una `merge` de la rama `fix-ifs` con la rama `main` y describa lo que ocurre. ¿Qué parte del código podría estar ocasionando esto? (0.25 pts)"
   ]
  },
  {
   "cell_type": "markdown",
   "metadata": {
    "id": "ypH_6lL5ioZz"
   },
   "source": [
    "<code>Escriba sus respuestas acá:</code> <br> <br>\n",
    "\n",
    "Ejecutamos: <br>\n",
    "<code> git checkout main </code> <br>\n",
    "<code> git merge origin/fix-ifs </code> <br>\n",
    "<code> CONFLICT (content): Merge confict in main.py </code> <br>\n",
    "\n",
    "Pareciera haber un conflicto en el codigo del archivo main.py  <br>\n",
    "\n",
    "<code> git diff </code> <br>\n",
    "\n",
    "Una de las ramas (fix-ifs) tenía la función de \"animales()\" dentro de la función main. <br>\n",
    "Por otro lado, la rama main tenía esta función en un modulo aparte como archivo animals.py\n"
   ]
  },
  {
   "cell_type": "markdown",
   "metadata": {
    "id": "GYfODCjeivkU"
   },
   "source": [
    "7. Cree una rama nueva y proponga una solución al problema anterior, adjuntando el código corregido y señalando las líneas modificadas. (0.5 pts)"
   ]
  },
  {
   "cell_type": "markdown",
   "metadata": {
    "id": "8heBxDU9iziT"
   },
   "source": [
    "<code>Escriba sus respuestas acá:</code>\n",
    "\n",
    "1. Nos paramos en la rama main <br>\n",
    "<code> git checkout main </code> <br>\n",
    "\n",
    "2. Nos movemos a una nueva rama para para trabajar <br>\n",
    "git checkout -b fix-ifs-modular\n",
    "\n",
    "3. Corregimos la función en animals.py, cambiando el 2do y 3er `if` por `elif`. <br>\n",
    "\n",
    "4. Nos paramos en la rama main y hacemos el merge con la nueva rama. <br>\n",
    "<code> git checkout main </code> <br>\n",
    "<code> git merge origin/fix-ifs-modular </code> <br>\n",
    "\n",
    "\n",
    "\n",
    "\n"
   ]
  },
  {
   "cell_type": "markdown",
   "metadata": {
    "id": "Av8ebB9jkALO"
   },
   "source": [
    "## Fin"
   ]
  },
  {
   "cell_type": "markdown",
   "metadata": {
    "id": "aQqZT9fSkBK8"
   },
   "source": [
    "Eso ha sido todo por ahora!! Esperamos que este laboratorio les haya gustado y servido para trabajar con `Git`. Recuerden los dias de plazo que tienen disponibles y que ante cualquier duda no duden en contactar al equipo docente. \n",
    "\n",
    "Nos vemos!! \n",
    "\n",
    "<img src=https://media.tenor.com/OYLdav9k9LkAAAAd/kitty-cat.gif height=300>\n"
   ]
  }
 ],
 "metadata": {
  "colab": {
   "provenance": []
  },
  "kernelspec": {
   "display_name": "Python 3 (ipykernel)",
   "language": "python",
   "name": "python3"
  },
  "language_info": {
   "codemirror_mode": {
    "name": "ipython",
    "version": 3
   },
   "file_extension": ".py",
   "mimetype": "text/x-python",
   "name": "python",
   "nbconvert_exporter": "python",
   "pygments_lexer": "ipython3",
   "version": "3.10.8"
  },
  "vscode": {
   "interpreter": {
    "hash": "aee8b7b246df8f9039afb4144a1f6fd8d2ca17a180786b69acc140d282b71a49"
   }
  }
 },
 "nbformat": 4,
 "nbformat_minor": 4
}
